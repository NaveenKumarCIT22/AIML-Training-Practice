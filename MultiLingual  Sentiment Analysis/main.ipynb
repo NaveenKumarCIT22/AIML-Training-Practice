{
  "cells": [
    {
      "cell_type": "code",
      "execution_count": 3,
      "metadata": {
        "id": "stSlFc_-iF9c",
        "colab": {
          "base_uri": "https://localhost:8080/"
        },
        "outputId": "5c46f4ec-9f13-4769-9cdc-26772b4f20d7"
      },
      "outputs": [
        {
          "output_type": "stream",
          "name": "stdout",
          "text": [
            "Requirement already satisfied: transformers in /usr/local/lib/python3.10/dist-packages (4.46.2)\n",
            "Requirement already satisfied: filelock in /usr/local/lib/python3.10/dist-packages (from transformers) (3.16.1)\n",
            "Requirement already satisfied: huggingface-hub<1.0,>=0.23.2 in /usr/local/lib/python3.10/dist-packages (from transformers) (0.26.2)\n",
            "Requirement already satisfied: numpy>=1.17 in /usr/local/lib/python3.10/dist-packages (from transformers) (1.26.4)\n",
            "Requirement already satisfied: packaging>=20.0 in /usr/local/lib/python3.10/dist-packages (from transformers) (24.2)\n",
            "Requirement already satisfied: pyyaml>=5.1 in /usr/local/lib/python3.10/dist-packages (from transformers) (6.0.2)\n",
            "Requirement already satisfied: regex!=2019.12.17 in /usr/local/lib/python3.10/dist-packages (from transformers) (2024.9.11)\n",
            "Requirement already satisfied: requests in /usr/local/lib/python3.10/dist-packages (from transformers) (2.32.3)\n",
            "Requirement already satisfied: safetensors>=0.4.1 in /usr/local/lib/python3.10/dist-packages (from transformers) (0.4.5)\n",
            "Requirement already satisfied: tokenizers<0.21,>=0.20 in /usr/local/lib/python3.10/dist-packages (from transformers) (0.20.3)\n",
            "Requirement already satisfied: tqdm>=4.27 in /usr/local/lib/python3.10/dist-packages (from transformers) (4.66.6)\n",
            "Requirement already satisfied: fsspec>=2023.5.0 in /usr/local/lib/python3.10/dist-packages (from huggingface-hub<1.0,>=0.23.2->transformers) (2024.10.0)\n",
            "Requirement already satisfied: typing-extensions>=3.7.4.3 in /usr/local/lib/python3.10/dist-packages (from huggingface-hub<1.0,>=0.23.2->transformers) (4.12.2)\n",
            "Requirement already satisfied: charset-normalizer<4,>=2 in /usr/local/lib/python3.10/dist-packages (from requests->transformers) (3.4.0)\n",
            "Requirement already satisfied: idna<4,>=2.5 in /usr/local/lib/python3.10/dist-packages (from requests->transformers) (3.10)\n",
            "Requirement already satisfied: urllib3<3,>=1.21.1 in /usr/local/lib/python3.10/dist-packages (from requests->transformers) (2.2.3)\n",
            "Requirement already satisfied: certifi>=2017.4.17 in /usr/local/lib/python3.10/dist-packages (from requests->transformers) (2024.8.30)\n",
            "Requirement already satisfied: sentencepiece in /usr/local/lib/python3.10/dist-packages (0.2.0)\n"
          ]
        }
      ],
      "source": [
        "!pip install transformers\n",
        "!pip install sentencepiece"
      ]
    },
    {
      "cell_type": "code",
      "execution_count": 4,
      "metadata": {
        "id": "OTXhYC_JnD0h"
      },
      "outputs": [],
      "source": [
        "import torch\n",
        "from transformers import XLMRobertaForSequenceClassification, XLMRobertaTokenizer\n",
        "\n",
        "# Load the pre-trained model and tokenizer\n",
        "model_name = \"cardiffnlp/twitter-xlm-roberta-base-sentiment\"\n",
        "tokenizer = XLMRobertaTokenizer.from_pretrained(model_name)\n",
        "model = XLMRobertaForSequenceClassification.from_pretrained(model_name)"
      ]
    },
    {
      "cell_type": "code",
      "source": [
        "def sentiment_analysis(text):\n",
        "    # Tokenize the text\n",
        "    inputs = tokenizer(text, return_tensors=\"pt\", padding=True, truncation=True, max_length=512)\n",
        "\n",
        "    # Get the model's predictions\n",
        "    with torch.no_grad():\n",
        "        outputs = model(**inputs)\n",
        "\n",
        "    # Extract the predicted sentiment\n",
        "    scores = outputs[0][0].softmax(dim=0)\n",
        "    sentiment = torch.argmax(scores).item()\n",
        "    sentiment_labels = [\"Negative\", \"Neutral\", \"Positive\"]\n",
        "\n",
        "    return sentiment_labels[sentiment], scores"
      ],
      "metadata": {
        "id": "TdJtumiuoe4X"
      },
      "execution_count": 5,
      "outputs": []
    },
    {
      "cell_type": "code",
      "source": [
        "# Sample texts in different languages\n",
        "texts = [\n",
        "    \"Oh sure, I believe you... just like I believe in unicorns.\",\n",
        "    \"¿En serio crees que esto es lo mejor que puedes hacer?\",  # \"Do you really think this is the best you can do?\"\n",
        "    \"Tu as vraiment un talent pour rendre les choses compliquées, n'est-ce pas ?\",  # \"You really have a talent for making things complicated, don't you?\"\n",
        "    \"Ach ja, weil du natürlich immer recht hast.\",  # \"Oh yes, because you're obviously always right.\"\n",
        "     \"こんな簡単なこと、誰でもできるよね。\",  # \"This is so simple, anyone can do it, right?\"\n",
        "    \"Complimenti, davvero! Hai trovato il modo di sbagliare anche questo.\", # \"Congratulations, really! You found a way to mess this up too.\"\n",
        "    \"वाह, आपने तो इतिहास रच दिया!\", # \"Wow, you've made history!\"\n",
        "    \"정말 대단해요. 아무도 이렇게 할 생각을 못 했겠죠?\", # \"Truly amazing. Nobody else would have thought of doing it this way, right?\"\n",
        "    \"Claro, você sempre tem as melhores ideias, não é?\", # \"Of course, you always have the best ideas, don't you?\"\n",
        "    \"Ну конечно, ты просто гений, да?\", # \"Oh sure, you're just a genius, right?\"\n",
        "]\n",
        "\n",
        "# Analyze sentiments\n",
        "for text in texts:\n",
        "    sentiment, scores = sentiment_analysis(text)\n",
        "    print(f\"Text: {text}\\nSentiment: {sentiment}\\nScores: {scores}\\n\")"
      ],
      "metadata": {
        "colab": {
          "base_uri": "https://localhost:8080/"
        },
        "id": "yO4y9DnKohvt",
        "outputId": "e5dad9ce-aee4-4671-94e6-2cb6f308ca57"
      },
      "execution_count": 6,
      "outputs": [
        {
          "output_type": "stream",
          "name": "stdout",
          "text": [
            "Text: Oh sure, I believe you... just like I believe in unicorns.\n",
            "Sentiment: Positive\n",
            "Scores: tensor([0.0748, 0.3908, 0.5344])\n",
            "\n",
            "Text: ¿En serio crees que esto es lo mejor que puedes hacer?\n",
            "Sentiment: Positive\n",
            "Scores: tensor([0.1260, 0.2564, 0.6176])\n",
            "\n",
            "Text: Tu as vraiment un talent pour rendre les choses compliquées, n'est-ce pas ?\n",
            "Sentiment: Positive\n",
            "Scores: tensor([0.0877, 0.0805, 0.8319])\n",
            "\n",
            "Text: Ach ja, weil du natürlich immer recht hast.\n",
            "Sentiment: Positive\n",
            "Scores: tensor([0.0479, 0.1307, 0.8214])\n",
            "\n",
            "Text: こんな簡単なこと、誰でもできるよね。\n",
            "Sentiment: Positive\n",
            "Scores: tensor([0.0608, 0.2625, 0.6767])\n",
            "\n",
            "Text: Complimenti, davvero! Hai trovato il modo di sbagliare anche questo.\n",
            "Sentiment: Positive\n",
            "Scores: tensor([0.1866, 0.0978, 0.7156])\n",
            "\n",
            "Text: वाह, आपने तो इतिहास रच दिया!\n",
            "Sentiment: Positive\n",
            "Scores: tensor([0.0965, 0.1108, 0.7927])\n",
            "\n",
            "Text: 정말 대단해요. 아무도 이렇게 할 생각을 못 했겠죠?\n",
            "Sentiment: Positive\n",
            "Scores: tensor([0.1704, 0.1353, 0.6943])\n",
            "\n",
            "Text: Claro, você sempre tem as melhores ideias, não é?\n",
            "Sentiment: Positive\n",
            "Scores: tensor([0.0716, 0.2750, 0.6534])\n",
            "\n",
            "Text: Ну конечно, ты просто гений, да?\n",
            "Sentiment: Positive\n",
            "Scores: tensor([0.0435, 0.0792, 0.8773])\n",
            "\n"
          ]
        }
      ]
    },
    {
      "cell_type": "markdown",
      "source": [
        "## Hence Proved Sarcasms are Positive Sentences 😇"
      ],
      "metadata": {
        "id": "oVIwk4srqnjO"
      }
    }
  ],
  "metadata": {
    "colab": {
      "provenance": []
    },
    "kernelspec": {
      "display_name": "Python 3",
      "name": "python3"
    },
    "language_info": {
      "name": "python"
    }
  },
  "nbformat": 4,
  "nbformat_minor": 0
}