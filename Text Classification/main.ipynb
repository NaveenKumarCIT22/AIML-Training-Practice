{
 "cells": [
  {
   "cell_type": "markdown",
   "metadata": {},
   "source": [
    "# Text Sentiment Analysis\n",
    "This activity aims on indentifing the sentiment of the sentences. **One of the key goal of this activity is to find a way to classify sentences that are mixed with both positive and negative clauses.** \n",
    "\n",
    "## Approach\n",
    "- Split the compound sentences into simple sentences with conjunctions as pivots\n",
    "- Evaluate the constituent clauses for their sentiment\n",
    "\n",
    "## Advantages\n",
    "- For feedback analysis systems, helps to identify what exactly made customers happy and what made them sad."
   ]
  },
  {
   "cell_type": "markdown",
   "metadata": {},
   "source": [
    "### Imports"
   ]
  },
  {
   "cell_type": "code",
   "execution_count": 1,
   "metadata": {},
   "outputs": [],
   "source": [
    "from nltk.tokenize import word_tokenize, sent_tokenize\n",
    "from nltk.tokenize import sent_tokenize\n",
    "from textblob import TextBlob\n",
    "import nltk\n",
    "import re"
   ]
  },
  {
   "cell_type": "code",
   "execution_count": 2,
   "metadata": {},
   "outputs": [
    {
     "name": "stderr",
     "output_type": "stream",
     "text": [
      "[nltk_data] Downloading package punkt to\n",
      "[nltk_data]     C:\\Users\\navee\\AppData\\Roaming\\nltk_data...\n",
      "[nltk_data]   Package punkt is already up-to-date!\n"
     ]
    },
    {
     "data": {
      "text/plain": [
       "True"
      ]
     },
     "execution_count": 2,
     "metadata": {},
     "output_type": "execute_result"
    }
   ],
   "source": [
    "nltk.download('punkt')"
   ]
  },
  {
   "cell_type": "markdown",
   "metadata": {},
   "source": [
    "### Splitting Compound Sentences"
   ]
  },
  {
   "cell_type": "code",
   "execution_count": 6,
   "metadata": {},
   "outputs": [],
   "source": [
    "def split_compound_sentences(text):\n",
    "    conjunctions = ['and', 'but', 'or', 'yet', 'so', 'for', 'nor', 'although', 'though']\n",
    "    \n",
    "    sentences = sent_tokenize(text)\n",
    "    split_sentences = []\n",
    "    \n",
    "    for sentence in sentences:\n",
    "        parts = re.split(r'\\b(' + '|'.join(conjunctions) + r')\\b', sentence)\n",
    "        # print(\"====>\",parts)\n",
    "        current_clause = parts[0].strip()\n",
    "        for i in range(1, len(parts), 2):\n",
    "            conjunction = parts[i]\n",
    "            next_clause = parts[i + 1].strip()\n",
    "            \n",
    "            split_sentences.append(current_clause)\n",
    "            current_clause = f\"{conjunction} {next_clause}\"\n",
    "        \n",
    "        split_sentences.append(current_clause)\n",
    "    \n",
    "    return [s for s in split_sentences if s]\n"
   ]
  },
  {
   "cell_type": "markdown",
   "metadata": {},
   "source": [
    "### Sentiment Analysis"
   ]
  },
  {
   "cell_type": "code",
   "execution_count": null,
   "metadata": {},
   "outputs": [
    {
     "name": "stdout",
     "output_type": "stream",
     "text": [
      "The weather is beautiful today,          0.850      positive\n",
      "but yesterday's storm was terrible.      -1.000     negative\n",
      "===================================\n",
      "The concert was thrilling,               0.250      slightly positive\n",
      "yet the ticket prices were outrageous.   -1.000     negative\n",
      "===================================\n",
      "She excels at her job,                   0.000      neutral \n",
      "though her punctuality is poor.          -0.400     slightly negative\n",
      "===================================\n",
      "The food was delicious,                  1.000      positive\n",
      "but the service was slow.                -0.300     slightly negative\n",
      "===================================\n",
      "The movie had amazing special effects,   0.479      slightly positive\n",
      "although the plot was predictable.       -0.200     slightly negative\n",
      "===================================\n",
      "His presentation was insightful,         0.000      neutral \n",
      "but his delivery was dull.               -0.292     slightly negative\n",
      "===================================\n",
      "The book's story was captivating, even if the ending was disappointing. -0.050     neutral \n",
      "===================================\n",
      "Her singing voice is angelic,            0.000      neutral \n",
      "but her dancing needs improvement.       0.000      neutral \n",
      "===================================\n",
      "The new smartphone has a sleek design,   0.136      slightly positive\n",
      "yet the battery life is short.           0.000      neutral \n",
      "===================================\n",
      "The hotel room was spacious,             0.000      neutral \n",
      "although it was quite noisy at night.    0.000      neutral \n",
      "===================================\n",
      "The park is peaceful                     0.250      slightly positive\n",
      "and clean,                               0.367      slightly positive\n",
      "but the parking is limited.              -0.071     neutral \n",
      "===================================\n",
      "Their customer support is friendly,      0.375      slightly positive\n",
      "yet it takes too long to get a response. -0.050     neutral \n",
      "===================================\n",
      "The museum's exhibits were fascinating,  0.700      slightly positive\n",
      "but the entrance fee was too high.       0.160      slightly positive\n",
      "===================================\n",
      "The laptop runs very fast, even          0.260      slightly positive\n",
      "though the fan noise is loud.            0.100      neutral \n",
      "===================================\n",
      "He is kind                               0.600      slightly positive\n",
      "and helpful,                             0.000      neutral \n",
      "but he tends to forget promises.         0.000      neutral \n",
      "===================================\n",
      "The scenery on the trail is breathtaking, 1.000      positive\n",
      "though the path is difficult.            -0.500     slightly negative\n",
      "===================================\n",
      "The concert venue was impressive,        1.000      positive\n",
      "but the seating was uncomfortable.       -0.500     slightly negative\n",
      "===================================\n",
      "The pasta dish was well-seasoned,        0.000      neutral \n",
      "but the portion was too small.           -0.250     slightly negative\n",
      "===================================\n",
      "Her speech was powerful,                 0.300      slightly positive\n",
      "but it was filled with unnecessary jargon. 0.000      neutral \n",
      "===================================\n",
      "The beach is beautiful,                  0.850      positive\n",
      "but the water is too cold to swim in.    -0.600     slightly negative\n",
      "===================================\n",
      "The art piece is striking,               0.500      slightly positive\n",
      "yet it lacks depth in its message.       0.000      neutral \n",
      "===================================\n",
      "Their plan is innovative,                0.500      slightly positive\n",
      "although it is quite risky.              0.000      neutral \n",
      "===================================\n",
      "The app's interface is user-friendly,    0.000      neutral \n",
      "but it crashes frequently.               0.100      neutral \n",
      "===================================\n",
      "The cake is moist                        0.000      neutral \n",
      "and flavorful,                           0.000      neutral \n",
      "though it is overly sweet.               0.350      slightly positive\n",
      "===================================\n",
      "The road trip was fun                    0.300      slightly positive\n",
      "and adventurous,                         0.500      slightly positive\n",
      "but it was exhausting.                   -0.400     slightly negative\n",
      "===================================\n",
      "The dress looks stunning, even           0.500      slightly positive\n",
      "though it is overpriced.                 0.000      neutral \n",
      "===================================\n",
      "The song's melody is catchy,             0.000      neutral \n",
      "but the lyrics are repetitive.           -0.250     slightly negative\n",
      "===================================\n",
      "The workshop was informative,            0.000      neutral \n",
      "but it dragged on too long.              -0.050     neutral \n",
      "===================================\n",
      "The coffee is strong                     0.433      slightly positive\n",
      "and aromatic,                            0.000      neutral \n",
      "although it is too bitter.               -0.100     neutral \n",
      "===================================\n",
      "The library is well-organized,           0.000      neutral \n",
      "but the lighting is too dim.             0.100      neutral \n",
      "===================================\n"
     ]
    }
   ],
   "source": [
    "arr = []\n",
    "\n",
    "with open(\"sentiment_data.txt\", 'r') as f:\n",
    "    arr = f.readlines()\n",
    "\n",
    "for l in arr:\n",
    "    sents = split_compound_sentences(l)\n",
    "    for s in sents:\n",
    "        blob = TextBlob(s)\n",
    "        sent = blob.sentiment.polarity\n",
    "        ment = \"neutral\"\n",
    "        if(sent>0.1):\n",
    "            if(sent>0.7):\n",
    "                ment = \"positive\"\n",
    "            else:\n",
    "                ment = \"slightly positive\"\n",
    "        elif(sent<-0.1):\n",
    "            if(sent<-0.7):\n",
    "                ment = \"negative\"\n",
    "            else:\n",
    "                ment = \"slightly negative\"\n",
    "        print(f\"{s:<40} {sent:<10.3f} {ment:<8}\")\n",
    "    print(\"=======\"*5)"
   ]
  }
 ],
 "metadata": {
  "kernelspec": {
   "display_name": "Python 3",
   "language": "python",
   "name": "python3"
  },
  "language_info": {
   "codemirror_mode": {
    "name": "ipython",
    "version": 3
   },
   "file_extension": ".py",
   "mimetype": "text/x-python",
   "name": "python",
   "nbconvert_exporter": "python",
   "pygments_lexer": "ipython3",
   "version": "3.10.7"
  }
 },
 "nbformat": 4,
 "nbformat_minor": 2
}
